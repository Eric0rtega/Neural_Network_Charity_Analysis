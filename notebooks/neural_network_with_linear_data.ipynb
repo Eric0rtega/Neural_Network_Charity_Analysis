{
 "cells": [
  {
   "cell_type": "code",
   "execution_count": 11,
   "metadata": {},
   "outputs": [],
   "source": [
    "# Import our dependencies\n",
    "import pandas as pd\n",
    "import matplotlib as plt\n",
    "from sklearn.datasets import make_blobs\n",
    "import sklearn as skl\n",
    "import tensorflow as tf"
   ]
  },
  {
   "cell_type": "code",
   "execution_count": 12,
   "metadata": {},
   "outputs": [
    {
     "data": {
      "text/plain": [
       "<AxesSubplot:xlabel='Feature 1', ylabel='Feature 2'>"
      ]
     },
     "execution_count": 12,
     "metadata": {},
     "output_type": "execute_result"
    },
    {
     "data": {
      "image/png": "[encoded data removed]",
      "text/plain": [
       "<Figure size 432x288 with 2 Axes>"
      ]
     },
     "metadata": {
      "needs_background": "light"
     },
     "output_type": "display_data"
    }
   ],
   "source": [
    "# Generate dummy dataset\n",
    "X, y = make_blobs(n_samples=1000, centers=2, n_features=2, random_state=78)\n",
    "\n",
    "# Creating a DataFrame with the dummy data\n",
    "df = pd.DataFrame(X, columns=[\"Feature 1\", \"Feature 2\"])\n",
    "df[\"Target\"] = y\n",
    "\n",
    "# Plotting the dummy data\n",
    "df.plot.scatter(x=\"Feature 1\", y=\"Feature 2\", c=\"Target\", colormap=\"winter\")"
   ]
  },
  {
   "cell_type": "code",
   "execution_count": 13,
   "metadata": {},
   "outputs": [],
   "source": [
    "# Use sklearn to split dataset\n",
    "from sklearn.model_selection import train_test_split\n",
    "X_train, X_test, y_train, y_test = train_test_split(X, y, random_state=78)"
   ]
  },
  {
   "cell_type": "code",
   "execution_count": 14,
   "metadata": {},
   "outputs": [],
   "source": [
    "# Create scaler instance\n",
    "X_scaler = skl.preprocessing.StandardScaler()\n",
    "\n",
    "# Fit the scaler\n",
    "X_scaler.fit(X_train)\n",
    "\n",
    "# Scale the data\n",
    "X_train_scaled = X_scaler.transform(X_train)\n",
    "X_test_scaled = X_scaler.transform(X_test)"
   ]
  },
  {
   "cell_type": "code",
   "execution_count": 15,
   "metadata": {},
   "outputs": [],
   "source": [
    "# Create the Keras Sequential model\n",
    "nn_model = tf.keras.models.Sequential()"
   ]
  },
  {
   "cell_type": "code",
   "execution_count": 16,
   "metadata": {},
   "outputs": [],
   "source": [
    "# Add our first Dense layer, including the input layer\n",
    "nn_model.add(tf.keras.layers.Dense(units=1, activation=\"relu\", input_dim=2))"
   ]
  },
  {
   "cell_type": "code",
   "execution_count": 17,
   "metadata": {},
   "outputs": [],
   "source": [
    "# Add the output layer that uses a probability activation function\n",
    "nn_model.add(tf.keras.layers.Dense(units=1, activation=\"sigmoid\"))"
   ]
  },
  {
   "cell_type": "code",
   "execution_count": 18,
   "metadata": {},
   "outputs": [
    {
     "name": "stdout",
     "output_type": "stream",
     "text": [
      "Model: \"sequential\"\n",
      "_________________________________________________________________\n",
      "Layer (type)                 Output Shape              Param #   \n",
      "=================================================================\n",
      "dense (Dense)                (None, 1)                 3         \n",
      "_________________________________________________________________\n",
      "dense_1 (Dense)              (None, 1)                 2         \n",
      "=================================================================\n",
      "Total params: 5\n",
      "Trainable params: 5\n",
      "Non-trainable params: 0\n",
      "_________________________________________________________________\n"
     ]
    }
   ],
   "source": [
    "# Check the structure of the Sequential model\n",
    "nn_model.summary()"
   ]
  },
  {
   "cell_type": "code",
   "execution_count": 19,
   "metadata": {},
   "outputs": [],
   "source": [
    "# Compile the Sequential model together and customize metrics\n",
    "nn_model.compile(loss=\"binary_crossentropy\", optimizer=\"adam\", metrics=[\"accuracy\"])"
   ]
  },
  {
   "cell_type": "code",
   "execution_count": 20,
   "metadata": {},
   "outputs": [
    {
     "name": "stdout",
     "output_type": "stream",
     "text": [
      "Epoch 1/100\n",
      "24/24 [==============================] - 0s 692us/step - loss: 0.5474 - accuracy: 0.9422\n",
      "Epoch 2/100\n",
      "24/24 [==============================] - 0s 550us/step - loss: 0.5168 - accuracy: 0.9562\n",
      "Epoch 3/100\n",
      "24/24 [==============================] - 0s 604us/step - loss: 0.5073 - accuracy: 0.9555\n",
      "Epoch 4/100\n",
      "24/24 [==============================] - 0s 618us/step - loss: 0.4957 - accuracy: 0.9676\n",
      "Epoch 5/100\n",
      "24/24 [==============================] - 0s 591us/step - loss: 0.4985 - accuracy: 0.9564\n",
      "Epoch 6/100\n",
      "24/24 [==============================] - 0s 634us/step - loss: 0.4751 - accuracy: 0.9547\n",
      "Epoch 7/100\n",
      "24/24 [==============================] - 0s 678us/step - loss: 0.4645 - accuracy: 0.9601\n",
      "Epoch 8/100\n",
      "24/24 [==============================] - 0s 672us/step - loss: 0.4520 - accuracy: 0.9691\n",
      "Epoch 9/100\n",
      "24/24 [==============================] - 0s 652us/step - loss: 0.4282 - accuracy: 0.9637\n",
      "Epoch 10/100\n",
      "24/24 [==============================] - 0s 705us/step - loss: 0.4278 - accuracy: 0.9740\n",
      "Epoch 11/100\n",
      "24/24 [==============================] - 0s 673us/step - loss: 0.4198 - accuracy: 0.9806\n",
      "Epoch 12/100\n",
      "24/24 [==============================] - 0s 805us/step - loss: 0.4110 - accuracy: 0.9731\n",
      "Epoch 13/100\n",
      "24/24 [==============================] - 0s 956us/step - loss: 0.4113 - accuracy: 0.9798\n",
      "Epoch 14/100\n",
      "24/24 [==============================] - 0s 903us/step - loss: 0.3866 - accuracy: 0.9856\n",
      "Epoch 15/100\n",
      "24/24 [==============================] - 0s 1ms/step - loss: 0.3705 - accuracy: 0.9813\n",
      "Epoch 16/100\n",
      "24/24 [==============================] - 0s 1ms/step - loss: 0.3693 - accuracy: 0.9830\n",
      "Epoch 17/100\n",
      "24/24 [==============================] - 0s 771us/step - loss: 0.3642 - accuracy: 0.9858\n",
      "Epoch 18/100\n",
      "24/24 [==============================] - 0s 1ms/step - loss: 0.3329 - accuracy: 0.9821\n",
      "Epoch 19/100\n",
      "24/24 [==============================] - 0s 763us/step - loss: 0.3300 - accuracy: 0.9806\n",
      "Epoch 20/100\n",
      "24/24 [==============================] - 0s 995us/step - loss: 0.3273 - accuracy: 0.9849\n",
      "Epoch 21/100\n",
      "24/24 [==============================] - 0s 827us/step - loss: 0.3265 - accuracy: 0.9793\n",
      "Epoch 22/100\n",
      "24/24 [==============================] - 0s 903us/step - loss: 0.3217 - accuracy: 0.9848\n",
      "Epoch 23/100\n",
      "24/24 [==============================] - 0s 872us/step - loss: 0.2981 - accuracy: 0.9906\n",
      "Epoch 24/100\n",
      "24/24 [==============================] - 0s 736us/step - loss: 0.3145 - accuracy: 0.9861\n",
      "Epoch 25/100\n",
      "24/24 [==============================] - 0s 932us/step - loss: 0.2890 - accuracy: 0.9851\n",
      "Epoch 26/100\n",
      "24/24 [==============================] - 0s 829us/step - loss: 0.2953 - accuracy: 0.9882\n",
      "Epoch 27/100\n",
      "24/24 [==============================] - 0s 718us/step - loss: 0.2803 - accuracy: 0.9895\n",
      "Epoch 28/100\n",
      "24/24 [==============================] - 0s 770us/step - loss: 0.2686 - accuracy: 0.9893\n",
      "Epoch 29/100\n",
      "24/24 [==============================] - 0s 872us/step - loss: 0.2671 - accuracy: 0.9811\n",
      "Epoch 30/100\n",
      "24/24 [==============================] - 0s 931us/step - loss: 0.2627 - accuracy: 0.9865\n",
      "Epoch 31/100\n",
      "24/24 [==============================] - 0s 766us/step - loss: 0.2598 - accuracy: 0.9919\n",
      "Epoch 32/100\n",
      "24/24 [==============================] - 0s 870us/step - loss: 0.2560 - accuracy: 0.9862\n",
      "Epoch 33/100\n",
      "24/24 [==============================] - 0s 754us/step - loss: 0.2469 - accuracy: 0.9819\n",
      "Epoch 34/100\n",
      "24/24 [==============================] - 0s 794us/step - loss: 0.2426 - accuracy: 0.9943\n",
      "Epoch 35/100\n",
      "24/24 [==============================] - 0s 854us/step - loss: 0.2381 - accuracy: 0.9914\n",
      "Epoch 36/100\n",
      "24/24 [==============================] - 0s 781us/step - loss: 0.2269 - accuracy: 0.9960\n",
      "Epoch 37/100\n",
      "24/24 [==============================] - 0s 828us/step - loss: 0.2254 - accuracy: 0.9932\n",
      "Epoch 38/100\n",
      "24/24 [==============================] - 0s 875us/step - loss: 0.2092 - accuracy: 0.9926\n",
      "Epoch 39/100\n",
      "24/24 [==============================] - 0s 738us/step - loss: 0.2199 - accuracy: 0.9923\n",
      "Epoch 40/100\n",
      "24/24 [==============================] - 0s 822us/step - loss: 0.2046 - accuracy: 0.9924\n",
      "Epoch 41/100\n",
      "24/24 [==============================] - 0s 855us/step - loss: 0.2043 - accuracy: 0.9947\n",
      "Epoch 42/100\n",
      "24/24 [==============================] - 0s 963us/step - loss: 0.1956 - accuracy: 0.9987\n",
      "Epoch 43/100\n",
      "24/24 [==============================] - 0s 947us/step - loss: 0.2036 - accuracy: 0.9923\n",
      "Epoch 44/100\n",
      "24/24 [==============================] - 0s 1ms/step - loss: 0.1983 - accuracy: 0.9950\n",
      "Epoch 45/100\n",
      "24/24 [==============================] - 0s 893us/step - loss: 0.1853 - accuracy: 0.9969\n",
      "Epoch 46/100\n",
      "24/24 [==============================] - 0s 1ms/step - loss: 0.1825 - accuracy: 0.9949\n",
      "Epoch 47/100\n",
      "24/24 [==============================] - 0s 1ms/step - loss: 0.1850 - accuracy: 0.9975\n",
      "Epoch 48/100\n",
      "24/24 [==============================] - 0s 1ms/step - loss: 0.1774 - accuracy: 0.9981\n",
      "Epoch 49/100\n",
      "24/24 [==============================] - 0s 795us/step - loss: 0.1678 - accuracy: 0.9958\n",
      "Epoch 50/100\n",
      "24/24 [==============================] - 0s 924us/step - loss: 0.1668 - accuracy: 0.9975\n",
      "Epoch 51/100\n",
      "24/24 [==============================] - 0s 774us/step - loss: 0.1691 - accuracy: 0.9971\n",
      "Epoch 52/100\n",
      "24/24 [==============================] - 0s 1ms/step - loss: 0.1626 - accuracy: 0.9995\n",
      "Epoch 53/100\n",
      "24/24 [==============================] - 0s 828us/step - loss: 0.1531 - accuracy: 0.9993\n",
      "Epoch 54/100\n",
      "24/24 [==============================] - 0s 1ms/step - loss: 0.1512 - accuracy: 0.9952\n",
      "Epoch 55/100\n",
      "24/24 [==============================] - 0s 907us/step - loss: 0.1510 - accuracy: 1.0000\n",
      "Epoch 56/100\n",
      "24/24 [==============================] - 0s 898us/step - loss: 0.1462 - accuracy: 1.0000\n",
      "Epoch 57/100\n",
      "24/24 [==============================] - 0s 750us/step - loss: 0.1539 - accuracy: 1.0000\n",
      "Epoch 58/100\n",
      "24/24 [==============================] - 0s 695us/step - loss: 0.1450 - accuracy: 1.0000\n",
      "Epoch 59/100\n",
      "24/24 [==============================] - 0s 694us/step - loss: 0.1463 - accuracy: 1.0000\n",
      "Epoch 60/100\n",
      "24/24 [==============================] - 0s 690us/step - loss: 0.1413 - accuracy: 1.0000\n",
      "Epoch 61/100\n",
      "24/24 [==============================] - 0s 772us/step - loss: 0.1408 - accuracy: 1.0000\n",
      "Epoch 62/100\n",
      "24/24 [==============================] - 0s 965us/step - loss: 0.1408 - accuracy: 1.0000\n",
      "Epoch 63/100\n",
      "24/24 [==============================] - 0s 1ms/step - loss: 0.1322 - accuracy: 1.0000\n",
      "Epoch 64/100\n",
      "24/24 [==============================] - 0s 1ms/step - loss: 0.1324 - accuracy: 1.0000\n",
      "Epoch 65/100\n",
      "24/24 [==============================] - 0s 960us/step - loss: 0.1322 - accuracy: 1.0000\n",
      "Epoch 66/100\n",
      "24/24 [==============================] - 0s 802us/step - loss: 0.1268 - accuracy: 1.0000\n",
      "Epoch 67/100\n",
      "24/24 [==============================] - 0s 887us/step - loss: 0.1198 - accuracy: 1.0000\n",
      "Epoch 68/100\n",
      "24/24 [==============================] - 0s 765us/step - loss: 0.1275 - accuracy: 1.0000\n",
      "Epoch 69/100\n",
      "24/24 [==============================] - 0s 848us/step - loss: 0.1213 - accuracy: 1.0000\n",
      "Epoch 70/100\n",
      "24/24 [==============================] - 0s 842us/step - loss: 0.1142 - accuracy: 1.0000\n",
      "Epoch 71/100\n",
      "24/24 [==============================] - 0s 917us/step - loss: 0.1167 - accuracy: 1.0000\n",
      "Epoch 72/100\n",
      "24/24 [==============================] - 0s 827us/step - loss: 0.1172 - accuracy: 1.0000\n",
      "Epoch 73/100\n",
      "24/24 [==============================] - 0s 815us/step - loss: 0.1099 - accuracy: 1.0000\n",
      "Epoch 74/100\n",
      "24/24 [==============================] - 0s 718us/step - loss: 0.1060 - accuracy: 1.0000\n",
      "Epoch 75/100\n",
      "24/24 [==============================] - 0s 627us/step - loss: 0.1071 - accuracy: 1.0000\n",
      "Epoch 76/100\n",
      "24/24 [==============================] - 0s 775us/step - loss: 0.1079 - accuracy: 1.0000\n",
      "Epoch 77/100\n",
      "24/24 [==============================] - 0s 888us/step - loss: 0.1082 - accuracy: 1.0000\n",
      "Epoch 78/100\n",
      "24/24 [==============================] - 0s 935us/step - loss: 0.0998 - accuracy: 1.0000\n",
      "Epoch 79/100\n",
      "24/24 [==============================] - 0s 827us/step - loss: 0.1008 - accuracy: 1.0000\n",
      "Epoch 80/100\n",
      "24/24 [==============================] - 0s 940us/step - loss: 0.0987 - accuracy: 1.0000\n",
      "Epoch 81/100\n"
     ]
    },
    {
     "name": "stdout",
     "output_type": "stream",
     "text": [
      "24/24 [==============================] - 0s 1ms/step - loss: 0.0925 - accuracy: 1.0000\n",
      "Epoch 82/100\n",
      "24/24 [==============================] - 0s 930us/step - loss: 0.0959 - accuracy: 1.0000\n",
      "Epoch 83/100\n",
      "24/24 [==============================] - 0s 764us/step - loss: 0.0935 - accuracy: 1.0000\n",
      "Epoch 84/100\n",
      "24/24 [==============================] - 0s 916us/step - loss: 0.0940 - accuracy: 1.0000\n",
      "Epoch 85/100\n",
      "24/24 [==============================] - 0s 809us/step - loss: 0.0901 - accuracy: 1.0000\n",
      "Epoch 86/100\n",
      "24/24 [==============================] - 0s 777us/step - loss: 0.0862 - accuracy: 1.0000\n",
      "Epoch 87/100\n",
      "24/24 [==============================] - 0s 698us/step - loss: 0.0898 - accuracy: 1.0000\n",
      "Epoch 88/100\n",
      "24/24 [==============================] - 0s 663us/step - loss: 0.0894 - accuracy: 1.0000\n",
      "Epoch 89/100\n",
      "24/24 [==============================] - 0s 673us/step - loss: 0.0875 - accuracy: 1.0000\n",
      "Epoch 90/100\n",
      "24/24 [==============================] - 0s 606us/step - loss: 0.0811 - accuracy: 1.0000\n",
      "Epoch 91/100\n",
      "24/24 [==============================] - 0s 674us/step - loss: 0.0853 - accuracy: 1.0000\n",
      "Epoch 92/100\n",
      "24/24 [==============================] - 0s 617us/step - loss: 0.0815 - accuracy: 1.0000\n",
      "Epoch 93/100\n",
      "24/24 [==============================] - 0s 607us/step - loss: 0.0841 - accuracy: 1.0000\n",
      "Epoch 94/100\n",
      "24/24 [==============================] - 0s 665us/step - loss: 0.0781 - accuracy: 1.0000\n",
      "Epoch 95/100\n",
      "24/24 [==============================] - 0s 630us/step - loss: 0.0768 - accuracy: 1.0000\n",
      "Epoch 96/100\n",
      "24/24 [==============================] - 0s 591us/step - loss: 0.0785 - accuracy: 1.0000\n",
      "Epoch 97/100\n",
      "24/24 [==============================] - 0s 609us/step - loss: 0.0766 - accuracy: 1.0000\n",
      "Epoch 98/100\n",
      "24/24 [==============================] - 0s 735us/step - loss: 0.0774 - accuracy: 1.0000\n",
      "Epoch 99/100\n",
      "24/24 [==============================] - 0s 614us/step - loss: 0.0736 - accuracy: 1.0000\n",
      "Epoch 100/100\n",
      "24/24 [==============================] - 0s 552us/step - loss: 0.0729 - accuracy: 1.0000\n"
     ]
    }
   ],
   "source": [
    "# Fit the model to the training data\n",
    "fit_model = nn_model.fit(X_train_scaled, y_train, epochs=100)"
   ]
  },
  {
   "cell_type": "code",
   "execution_count": 21,
   "metadata": {},
   "outputs": [
    {
     "data": {
      "text/plain": [
       "<AxesSubplot:>"
      ]
     },
     "execution_count": 21,
     "metadata": {},
     "output_type": "execute_result"
    },
    {
     "data": {
      "image/png": "[encoded data removed]",
      "text/plain": [
       "<Figure size 432x288 with 1 Axes>"
      ]
     },
     "metadata": {
      "needs_background": "light"
     },
     "output_type": "display_data"
    }
   ],
   "source": [
    "# Create a DataFrame containing training history\n",
    "history_df = pd.DataFrame(fit_model.history, index=range(1,len(fit_model.history[\"loss\"])+1))\n",
    "\n",
    "# Plot the loss\n",
    "history_df.plot(y=\"loss\")"
   ]
  },
  {
   "cell_type": "code",
   "execution_count": 22,
   "metadata": {},
   "outputs": [
    {
     "data": {
      "text/plain": [
       "<AxesSubplot:>"
      ]
     },
     "execution_count": 22,
     "metadata": {},
     "output_type": "execute_result"
    },
    {
     "data": {
      "image/png": "[encoded data removed]",
      "text/plain": [
       "<Figure size 432x288 with 1 Axes>"
      ]
     },
     "metadata": {
      "needs_background": "light"
     },
     "output_type": "display_data"
    }
   ],
   "source": [
    "# Plot the accuracy\n",
    "history_df.plot(y=\"accuracy\")"
   ]
  },
  {
   "cell_type": "code",
   "execution_count": 23,
   "metadata": {},
   "outputs": [
    {
     "name": "stdout",
     "output_type": "stream",
     "text": [
      "8/8 - 0s - loss: 0.0678 - accuracy: 1.0000\n",
      "Loss: 0.0678144320845604, Accuracy: 1.0\n"
     ]
    }
   ],
   "source": [
    "# Evaluate the model using the test data\n",
    "model_loss, model_accuracy = nn_model.evaluate(X_test_scaled,y_test,verbose=2)\n",
    "print(f\"Loss: {model_loss}, Accuracy: {model_accuracy}\")"
   ]
  },
  {
   "cell_type": "code",
   "execution_count": 24,
   "metadata": {},
   "outputs": [
    {
     "data": {
      "text/plain": [
       "array([[0],\n",
       "       [1],\n",
       "       [0],\n",
       "       [1],\n",
       "       [0],\n",
       "       [0],\n",
       "       [1],\n",
       "       [1],\n",
       "       [1],\n",
       "       [0]], dtype=int32)"
      ]
     },
     "execution_count": 24,
     "metadata": {},
     "output_type": "execute_result"
    }
   ],
   "source": [
    "# Predict the classification of a new set of blob data\n",
    "new_X, new_Y = make_blobs(n_samples=10, centers=2, n_features=2, random_state=78)\n",
    "new_X_scaled = X_scaler.transform(new_X)\n",
    "(nn_model.predict(new_X_scaled) > 0.5).astype(\"int32\")"
   ]
  },
  {
   "cell_type": "code",
   "execution_count": 25,
   "metadata": {},
   "outputs": [
    {
     "data": {
      "text/plain": [
       "<AxesSubplot:xlabel='Feature 1', ylabel='Feature 2'>"
      ]
     },
     "execution_count": 25,
     "metadata": {},
     "output_type": "execute_result"
    },
    {
     "data": {
      "image/png": "[encoded data removed]",
      "text/plain": [
       "<Figure size 432x288 with 2 Axes>"
      ]
     },
     "metadata": {
      "needs_background": "light"
     },
     "output_type": "display_data"
    }
   ],
   "source": [
    "from sklearn.datasets import make_moons\n",
    "\n",
    "# Creating dummy nonlinear data\n",
    "X_moons, y_moons = make_moons(n_samples=1000, noise=0.08, random_state=78)\n",
    "\n",
    "# Transforming y_moons to a vertical vector\n",
    "y_moons = y_moons.reshape(-1, 1)\n",
    "\n",
    "# Creating a DataFrame to plot the nonlinear dummy data\n",
    "df_moons = pd.DataFrame(X_moons, columns=[\"Feature 1\", \"Feature 2\"])\n",
    "df_moons[\"Target\"] = y_moons\n",
    "\n",
    "# Plot the nonlinear dummy data\n",
    "df_moons.plot.scatter(x=\"Feature 1\",y=\"Feature 2\", c=\"Target\",colormap=\"winter\")"
   ]
  },
  {
   "cell_type": "code",
   "execution_count": 26,
   "metadata": {},
   "outputs": [],
   "source": [
    "# Create training and testing sets\n",
    "X_moon_train, X_moon_test, y_moon_train, y_moon_test = train_test_split(\n",
    "    X_moons, y_moons, random_state=78\n",
    ")\n",
    "\n",
    "# Create the scaler instance\n",
    "X_moon_scaler = skl.preprocessing.StandardScaler()\n",
    "\n",
    "# Fit the scaler\n",
    "X_moon_scaler.fit(X_moon_train)\n",
    "\n",
    "# Scale the data\n",
    "X_moon_train_scaled = X_moon_scaler.transform(X_moon_train)\n",
    "X_moon_test_scaled = X_moon_scaler.transform(X_moon_test)"
   ]
  },
  {
   "cell_type": "code",
   "execution_count": 27,
   "metadata": {},
   "outputs": [
    {
     "name": "stdout",
     "output_type": "stream",
     "text": [
      "Epoch 1/100\n",
      "24/24 [==============================] - 0s 1ms/step - loss: 1.1206 - accuracy: 0.4733\n",
      "Epoch 2/100\n",
      "24/24 [==============================] - 0s 911us/step - loss: 0.9590 - accuracy: 0.5027\n",
      "Epoch 3/100\n",
      "24/24 [==============================] - 0s 923us/step - loss: 0.8601 - accuracy: 0.5293\n",
      "Epoch 4/100\n",
      "24/24 [==============================] - 0s 920us/step - loss: 0.7945 - accuracy: 0.5533\n",
      "Epoch 5/100\n",
      "24/24 [==============================] - 0s 946us/step - loss: 0.7448 - accuracy: 0.5720\n",
      "Epoch 6/100\n",
      "24/24 [==============================] - 0s 919us/step - loss: 0.7072 - accuracy: 0.5907\n",
      "Epoch 7/100\n",
      "24/24 [==============================] - 0s 957us/step - loss: 0.6746 - accuracy: 0.6000\n",
      "Epoch 8/100\n",
      "24/24 [==============================] - 0s 887us/step - loss: 0.6461 - accuracy: 0.6120\n",
      "Epoch 9/100\n",
      "24/24 [==============================] - 0s 977us/step - loss: 0.6205 - accuracy: 0.6293\n",
      "Epoch 10/100\n",
      "24/24 [==============================] - 0s 944us/step - loss: 0.5967 - accuracy: 0.6387\n",
      "Epoch 11/100\n",
      "24/24 [==============================] - 0s 1ms/step - loss: 0.5749 - accuracy: 0.6467\n",
      "Epoch 12/100\n",
      "24/24 [==============================] - 0s 863us/step - loss: 0.5553 - accuracy: 0.6653\n",
      "Epoch 13/100\n",
      "24/24 [==============================] - 0s 1ms/step - loss: 0.5377 - accuracy: 0.6773\n",
      "Epoch 14/100\n",
      "24/24 [==============================] - 0s 933us/step - loss: 0.5213 - accuracy: 0.6840\n",
      "Epoch 15/100\n",
      "24/24 [==============================] - 0s 1ms/step - loss: 0.5063 - accuracy: 0.6893\n",
      "Epoch 16/100\n",
      "24/24 [==============================] - 0s 929us/step - loss: 0.4923 - accuracy: 0.6960\n",
      "Epoch 17/100\n",
      "24/24 [==============================] - 0s 1ms/step - loss: 0.4793 - accuracy: 0.7080\n",
      "Epoch 18/100\n",
      "24/24 [==============================] - 0s 929us/step - loss: 0.4669 - accuracy: 0.7200\n",
      "Epoch 19/100\n",
      "24/24 [==============================] - 0s 1ms/step - loss: 0.4557 - accuracy: 0.7240\n",
      "Epoch 20/100\n",
      "24/24 [==============================] - 0s 925us/step - loss: 0.4448 - accuracy: 0.7413\n",
      "Epoch 21/100\n",
      "24/24 [==============================] - 0s 987us/step - loss: 0.4348 - accuracy: 0.7507\n",
      "Epoch 22/100\n",
      "24/24 [==============================] - 0s 989us/step - loss: 0.4253 - accuracy: 0.7533\n",
      "Epoch 23/100\n",
      "24/24 [==============================] - 0s 1ms/step - loss: 0.4163 - accuracy: 0.7680\n",
      "Epoch 24/100\n",
      "24/24 [==============================] - 0s 1ms/step - loss: 0.4078 - accuracy: 0.7747\n",
      "Epoch 25/100\n",
      "24/24 [==============================] - 0s 1ms/step - loss: 0.3997 - accuracy: 0.7813\n",
      "Epoch 26/100\n",
      "24/24 [==============================] - 0s 1ms/step - loss: 0.3921 - accuracy: 0.7840\n",
      "Epoch 27/100\n",
      "24/24 [==============================] - 0s 1ms/step - loss: 0.3847 - accuracy: 0.7867\n",
      "Epoch 28/100\n",
      "24/24 [==============================] - 0s 1ms/step - loss: 0.3777 - accuracy: 0.7933\n",
      "Epoch 29/100\n",
      "24/24 [==============================] - 0s 1ms/step - loss: 0.3710 - accuracy: 0.7960\n",
      "Epoch 30/100\n",
      "24/24 [==============================] - 0s 1ms/step - loss: 0.3647 - accuracy: 0.7987\n",
      "Epoch 31/100\n",
      "24/24 [==============================] - 0s 1ms/step - loss: 0.3588 - accuracy: 0.8040\n",
      "Epoch 32/100\n",
      "24/24 [==============================] - 0s 997us/step - loss: 0.3533 - accuracy: 0.8133\n",
      "Epoch 33/100\n",
      "24/24 [==============================] - 0s 1ms/step - loss: 0.3483 - accuracy: 0.8173\n",
      "Epoch 34/100\n",
      "24/24 [==============================] - 0s 953us/step - loss: 0.3437 - accuracy: 0.8227\n",
      "Epoch 35/100\n",
      "24/24 [==============================] - 0s 983us/step - loss: 0.3392 - accuracy: 0.8267\n",
      "Epoch 36/100\n",
      "24/24 [==============================] - 0s 1ms/step - loss: 0.3353 - accuracy: 0.8347\n",
      "Epoch 37/100\n",
      "24/24 [==============================] - 0s 939us/step - loss: 0.3314 - accuracy: 0.8400\n",
      "Epoch 38/100\n",
      "24/24 [==============================] - 0s 1ms/step - loss: 0.3279 - accuracy: 0.8427\n",
      "Epoch 39/100\n",
      "24/24 [==============================] - 0s 1ms/step - loss: 0.3246 - accuracy: 0.8427\n",
      "Epoch 40/100\n",
      "24/24 [==============================] - 0s 1ms/step - loss: 0.3215 - accuracy: 0.8480\n",
      "Epoch 41/100\n",
      "24/24 [==============================] - 0s 1ms/step - loss: 0.3185 - accuracy: 0.8547\n",
      "Epoch 42/100\n",
      "24/24 [==============================] - 0s 1ms/step - loss: 0.3157 - accuracy: 0.8560\n",
      "Epoch 43/100\n",
      "24/24 [==============================] - 0s 1ms/step - loss: 0.3131 - accuracy: 0.8573\n",
      "Epoch 44/100\n",
      "24/24 [==============================] - 0s 1ms/step - loss: 0.3106 - accuracy: 0.8600\n",
      "Epoch 45/100\n",
      "24/24 [==============================] - 0s 1ms/step - loss: 0.3082 - accuracy: 0.8640\n",
      "Epoch 46/100\n",
      "24/24 [==============================] - 0s 1ms/step - loss: 0.3059 - accuracy: 0.8667\n",
      "Epoch 47/100\n",
      "24/24 [==============================] - 0s 1ms/step - loss: 0.3039 - accuracy: 0.8667\n",
      "Epoch 48/100\n",
      "24/24 [==============================] - 0s 1ms/step - loss: 0.3018 - accuracy: 0.8667\n",
      "Epoch 49/100\n",
      "24/24 [==============================] - 0s 1ms/step - loss: 0.2998 - accuracy: 0.8667\n",
      "Epoch 50/100\n",
      "24/24 [==============================] - 0s 1ms/step - loss: 0.2980 - accuracy: 0.8693\n",
      "Epoch 51/100\n",
      "24/24 [==============================] - 0s 1ms/step - loss: 0.2964 - accuracy: 0.8707\n",
      "Epoch 52/100\n",
      "24/24 [==============================] - 0s 1ms/step - loss: 0.2947 - accuracy: 0.8707\n",
      "Epoch 53/100\n",
      "24/24 [==============================] - 0s 1ms/step - loss: 0.2930 - accuracy: 0.8707\n",
      "Epoch 54/100\n",
      "24/24 [==============================] - 0s 1ms/step - loss: 0.2915 - accuracy: 0.8707\n",
      "Epoch 55/100\n",
      "24/24 [==============================] - 0s 1ms/step - loss: 0.2901 - accuracy: 0.8707\n",
      "Epoch 56/100\n",
      "24/24 [==============================] - 0s 1ms/step - loss: 0.2888 - accuracy: 0.8720\n",
      "Epoch 57/100\n",
      "24/24 [==============================] - 0s 1ms/step - loss: 0.2876 - accuracy: 0.8733\n",
      "Epoch 58/100\n",
      "24/24 [==============================] - 0s 1ms/step - loss: 0.2863 - accuracy: 0.8733\n",
      "Epoch 59/100\n",
      "24/24 [==============================] - 0s 1ms/step - loss: 0.2851 - accuracy: 0.8733\n",
      "Epoch 60/100\n",
      "24/24 [==============================] - 0s 1ms/step - loss: 0.2840 - accuracy: 0.8733\n",
      "Epoch 61/100\n",
      "24/24 [==============================] - 0s 1ms/step - loss: 0.2830 - accuracy: 0.8760\n",
      "Epoch 62/100\n",
      "24/24 [==============================] - 0s 945us/step - loss: 0.2819 - accuracy: 0.8773\n",
      "Epoch 63/100\n",
      "24/24 [==============================] - 0s 981us/step - loss: 0.2809 - accuracy: 0.8800\n",
      "Epoch 64/100\n",
      "24/24 [==============================] - 0s 946us/step - loss: 0.2800 - accuracy: 0.8800\n",
      "Epoch 65/100\n",
      "24/24 [==============================] - 0s 972us/step - loss: 0.2791 - accuracy: 0.8800\n",
      "Epoch 66/100\n",
      "24/24 [==============================] - 0s 860us/step - loss: 0.2782 - accuracy: 0.8813\n",
      "Epoch 67/100\n",
      "24/24 [==============================] - 0s 950us/step - loss: 0.2773 - accuracy: 0.8827\n",
      "Epoch 68/100\n",
      "24/24 [==============================] - 0s 901us/step - loss: 0.2765 - accuracy: 0.8827\n",
      "Epoch 69/100\n",
      "24/24 [==============================] - 0s 1ms/step - loss: 0.2757 - accuracy: 0.8853\n",
      "Epoch 70/100\n",
      "24/24 [==============================] - 0s 1ms/step - loss: 0.2750 - accuracy: 0.8867\n",
      "Epoch 71/100\n",
      "24/24 [==============================] - 0s 923us/step - loss: 0.2743 - accuracy: 0.8867\n",
      "Epoch 72/100\n",
      "24/24 [==============================] - 0s 856us/step - loss: 0.2735 - accuracy: 0.8880\n",
      "Epoch 73/100\n",
      "24/24 [==============================] - 0s 845us/step - loss: 0.2729 - accuracy: 0.8880\n",
      "Epoch 74/100\n",
      "24/24 [==============================] - 0s 815us/step - loss: 0.2722 - accuracy: 0.8893\n",
      "Epoch 75/100\n",
      "24/24 [==============================] - 0s 845us/step - loss: 0.2716 - accuracy: 0.8893\n",
      "Epoch 76/100\n",
      "24/24 [==============================] - 0s 819us/step - loss: 0.2709 - accuracy: 0.8907\n",
      "Epoch 77/100\n",
      "24/24 [==============================] - 0s 816us/step - loss: 0.2704 - accuracy: 0.8920\n",
      "Epoch 78/100\n",
      "24/24 [==============================] - 0s 910us/step - loss: 0.2698 - accuracy: 0.8907\n",
      "Epoch 79/100\n",
      "24/24 [==============================] - 0s 841us/step - loss: 0.2692 - accuracy: 0.8920\n",
      "Epoch 80/100\n",
      "24/24 [==============================] - 0s 830us/step - loss: 0.2686 - accuracy: 0.8933\n",
      "Epoch 81/100\n",
      "24/24 [==============================] - 0s 858us/step - loss: 0.2681 - accuracy: 0.8933\n",
      "Epoch 82/100\n"
     ]
    },
    {
     "name": "stdout",
     "output_type": "stream",
     "text": [
      "24/24 [==============================] - 0s 834us/step - loss: 0.2676 - accuracy: 0.8933\n",
      "Epoch 83/100\n",
      "24/24 [==============================] - 0s 875us/step - loss: 0.2671 - accuracy: 0.8933\n",
      "Epoch 84/100\n",
      "24/24 [==============================] - 0s 857us/step - loss: 0.2666 - accuracy: 0.8933\n",
      "Epoch 85/100\n",
      "24/24 [==============================] - 0s 837us/step - loss: 0.2662 - accuracy: 0.8933\n",
      "Epoch 86/100\n",
      "24/24 [==============================] - 0s 853us/step - loss: 0.2658 - accuracy: 0.8933\n",
      "Epoch 87/100\n",
      "24/24 [==============================] - 0s 815us/step - loss: 0.2653 - accuracy: 0.8933\n",
      "Epoch 88/100\n",
      "24/24 [==============================] - 0s 836us/step - loss: 0.2649 - accuracy: 0.8933\n",
      "Epoch 89/100\n",
      "24/24 [==============================] - 0s 854us/step - loss: 0.2645 - accuracy: 0.8933\n",
      "Epoch 90/100\n",
      "24/24 [==============================] - 0s 813us/step - loss: 0.2641 - accuracy: 0.8933\n",
      "Epoch 91/100\n",
      "24/24 [==============================] - 0s 858us/step - loss: 0.2638 - accuracy: 0.8933\n",
      "Epoch 92/100\n",
      "24/24 [==============================] - 0s 825us/step - loss: 0.2635 - accuracy: 0.8920\n",
      "Epoch 93/100\n",
      "24/24 [==============================] - 0s 854us/step - loss: 0.2630 - accuracy: 0.8920\n",
      "Epoch 94/100\n",
      "24/24 [==============================] - 0s 844us/step - loss: 0.2627 - accuracy: 0.8920\n",
      "Epoch 95/100\n",
      "24/24 [==============================] - 0s 845us/step - loss: 0.2624 - accuracy: 0.8920\n",
      "Epoch 96/100\n",
      "24/24 [==============================] - 0s 823us/step - loss: 0.2620 - accuracy: 0.8920\n",
      "Epoch 97/100\n",
      "24/24 [==============================] - 0s 844us/step - loss: 0.2618 - accuracy: 0.8920\n",
      "Epoch 98/100\n",
      "24/24 [==============================] - 0s 835us/step - loss: 0.2614 - accuracy: 0.8920\n",
      "Epoch 99/100\n",
      "24/24 [==============================] - 0s 848us/step - loss: 0.2611 - accuracy: 0.8920\n",
      "Epoch 100/100\n",
      "24/24 [==============================] - 0s 808us/step - loss: 0.2608 - accuracy: 0.8920\n"
     ]
    }
   ],
   "source": [
    "# Training the model with the nonlinear data\n",
    "model_moon = nn_model.fit(X_moon_train_scaled, y_moon_train, epochs=100, shuffle=True)"
   ]
  },
  {
   "cell_type": "code",
   "execution_count": 28,
   "metadata": {},
   "outputs": [
    {
     "data": {
      "text/plain": [
       "<AxesSubplot:>"
      ]
     },
     "execution_count": 28,
     "metadata": {},
     "output_type": "execute_result"
    },
    {
     "data": {
      "image/png": "[encoded data removed]",
      "text/plain": [
       "<Figure size 432x288 with 1 Axes>"
      ]
     },
     "metadata": {
      "needs_background": "light"
     },
     "output_type": "display_data"
    }
   ],
   "source": [
    "# Create a DataFrame containing training history\n",
    "history_df = pd.DataFrame(model_moon.history, index=range(1,len(model_moon.history[\"loss\"])+1))\n",
    "\n",
    "# Plot the loss\n",
    "history_df.plot(y=\"loss\")"
   ]
  },
  {
   "cell_type": "code",
   "execution_count": 29,
   "metadata": {},
   "outputs": [
    {
     "data": {
      "text/plain": [
       "<AxesSubplot:>"
      ]
     },
     "execution_count": 29,
     "metadata": {},
     "output_type": "execute_result"
    },
    {
     "data": {
      "image/png": "[encoded data removed]",
      "text/plain": [
       "<Figure size 432x288 with 1 Axes>"
      ]
     },
     "metadata": {
      "needs_background": "light"
     },
     "output_type": "display_data"
    }
   ],
   "source": [
    "# Plot the loss\n",
    "history_df.plot(y=\"accuracy\")"
   ]
  },
  {
   "cell_type": "code",
   "execution_count": 30,
   "metadata": {},
   "outputs": [],
   "source": [
    "# Generate our new Sequential model\n",
    "new_model = tf.keras.models.Sequential()"
   ]
  },
  {
   "cell_type": "code",
   "execution_count": 31,
   "metadata": {},
   "outputs": [],
   "source": [
    "# Add the input and hidden layer\n",
    "number_inputs = 2\n",
    "number_hidden_nodes = 6\n",
    "\n",
    "new_model.add(tf.keras.layers.Dense(units=number_hidden_nodes, activation=\"relu\", input_dim=number_inputs))\n",
    "\n",
    "# Add the output layer that uses a probability activation function\n",
    "new_model.add(tf.keras.layers.Dense(units=1, activation=\"sigmoid\"))"
   ]
  },
  {
   "cell_type": "code",
   "execution_count": 32,
   "metadata": {},
   "outputs": [
    {
     "name": "stdout",
     "output_type": "stream",
     "text": [
      "Epoch 1/100\n",
      "24/24 [==============================] - 0s 614us/step - loss: 0.8048 - accuracy: 0.4904\n",
      "Epoch 2/100\n",
      "24/24 [==============================] - 0s 604us/step - loss: 0.7698 - accuracy: 0.4510\n",
      "Epoch 3/100\n",
      "24/24 [==============================] - 0s 589us/step - loss: 0.7409 - accuracy: 0.4158\n",
      "Epoch 4/100\n",
      "24/24 [==============================] - 0s 624us/step - loss: 0.7093 - accuracy: 0.3916\n",
      "Epoch 5/100\n",
      "24/24 [==============================] - 0s 640us/step - loss: 0.6785 - accuracy: 0.3762\n",
      "Epoch 6/100\n",
      "24/24 [==============================] - 0s 639us/step - loss: 0.6474 - accuracy: 0.4048\n",
      "Epoch 7/100\n",
      "24/24 [==============================] - 0s 659us/step - loss: 0.6163 - accuracy: 0.5003\n",
      "Epoch 8/100\n",
      "24/24 [==============================] - 0s 704us/step - loss: 0.5982 - accuracy: 0.7535\n",
      "Epoch 9/100\n",
      "24/24 [==============================] - 0s 631us/step - loss: 0.5663 - accuracy: 0.8005\n",
      "Epoch 10/100\n",
      "24/24 [==============================] - 0s 589us/step - loss: 0.5437 - accuracy: 0.7981\n",
      "Epoch 11/100\n",
      "24/24 [==============================] - 0s 650us/step - loss: 0.5097 - accuracy: 0.8382\n",
      "Epoch 12/100\n",
      "24/24 [==============================] - 0s 655us/step - loss: 0.5043 - accuracy: 0.8137\n",
      "Epoch 13/100\n",
      "24/24 [==============================] - 0s 609us/step - loss: 0.4668 - accuracy: 0.8316\n",
      "Epoch 14/100\n",
      "24/24 [==============================] - 0s 683us/step - loss: 0.4670 - accuracy: 0.8256\n",
      "Epoch 15/100\n",
      "24/24 [==============================] - 0s 679us/step - loss: 0.4366 - accuracy: 0.8325\n",
      "Epoch 16/100\n",
      "24/24 [==============================] - 0s 606us/step - loss: 0.4103 - accuracy: 0.8450\n",
      "Epoch 17/100\n",
      "24/24 [==============================] - 0s 671us/step - loss: 0.4224 - accuracy: 0.8283\n",
      "Epoch 18/100\n",
      "24/24 [==============================] - 0s 663us/step - loss: 0.4111 - accuracy: 0.8191\n",
      "Epoch 19/100\n",
      "24/24 [==============================] - 0s 668us/step - loss: 0.3819 - accuracy: 0.8520\n",
      "Epoch 20/100\n",
      "24/24 [==============================] - 0s 741us/step - loss: 0.3718 - accuracy: 0.8494\n",
      "Epoch 21/100\n",
      "24/24 [==============================] - 0s 810us/step - loss: 0.3648 - accuracy: 0.8438\n",
      "Epoch 22/100\n",
      "24/24 [==============================] - 0s 709us/step - loss: 0.3538 - accuracy: 0.8486\n",
      "Epoch 23/100\n",
      "24/24 [==============================] - 0s 848us/step - loss: 0.3491 - accuracy: 0.8474\n",
      "Epoch 24/100\n",
      "24/24 [==============================] - 0s 830us/step - loss: 0.3457 - accuracy: 0.8343\n",
      "Epoch 25/100\n",
      "24/24 [==============================] - 0s 715us/step - loss: 0.3178 - accuracy: 0.8542\n",
      "Epoch 26/100\n",
      "24/24 [==============================] - 0s 887us/step - loss: 0.3329 - accuracy: 0.8341\n",
      "Epoch 27/100\n",
      "24/24 [==============================] - 0s 819us/step - loss: 0.3009 - accuracy: 0.8717\n",
      "Epoch 28/100\n",
      "24/24 [==============================] - 0s 742us/step - loss: 0.3043 - accuracy: 0.8606\n",
      "Epoch 29/100\n",
      "24/24 [==============================] - 0s 851us/step - loss: 0.2973 - accuracy: 0.8653\n",
      "Epoch 30/100\n",
      "24/24 [==============================] - 0s 837us/step - loss: 0.2904 - accuracy: 0.8652\n",
      "Epoch 31/100\n",
      "24/24 [==============================] - 0s 732us/step - loss: 0.2793 - accuracy: 0.8789\n",
      "Epoch 32/100\n",
      "24/24 [==============================] - 0s 882us/step - loss: 0.2865 - accuracy: 0.8677\n",
      "Epoch 33/100\n",
      "24/24 [==============================] - 0s 733us/step - loss: 0.2913 - accuracy: 0.8691\n",
      "Epoch 34/100\n",
      "24/24 [==============================] - 0s 856us/step - loss: 0.2949 - accuracy: 0.8669\n",
      "Epoch 35/100\n",
      "24/24 [==============================] - 0s 949us/step - loss: 0.2671 - accuracy: 0.8774\n",
      "Epoch 36/100\n",
      "24/24 [==============================] - 0s 749us/step - loss: 0.2724 - accuracy: 0.8809\n",
      "Epoch 37/100\n",
      "24/24 [==============================] - 0s 995us/step - loss: 0.2826 - accuracy: 0.8738\n",
      "Epoch 38/100\n",
      "24/24 [==============================] - 0s 857us/step - loss: 0.2469 - accuracy: 0.9052\n",
      "Epoch 39/100\n",
      "24/24 [==============================] - 0s 853us/step - loss: 0.2668 - accuracy: 0.8874\n",
      "Epoch 40/100\n",
      "24/24 [==============================] - 0s 872us/step - loss: 0.2870 - accuracy: 0.8641\n",
      "Epoch 41/100\n",
      "24/24 [==============================] - 0s 810us/step - loss: 0.2602 - accuracy: 0.8934\n",
      "Epoch 42/100\n",
      "24/24 [==============================] - 0s 1ms/step - loss: 0.2583 - accuracy: 0.8794\n",
      "Epoch 43/100\n",
      "24/24 [==============================] - 0s 849us/step - loss: 0.2593 - accuracy: 0.8829\n",
      "Epoch 44/100\n",
      "24/24 [==============================] - 0s 893us/step - loss: 0.2529 - accuracy: 0.8835\n",
      "Epoch 45/100\n",
      "24/24 [==============================] - 0s 860us/step - loss: 0.2498 - accuracy: 0.8952\n",
      "Epoch 46/100\n",
      "24/24 [==============================] - 0s 796us/step - loss: 0.2388 - accuracy: 0.8919\n",
      "Epoch 47/100\n",
      "24/24 [==============================] - 0s 954us/step - loss: 0.2582 - accuracy: 0.8866\n",
      "Epoch 48/100\n",
      "24/24 [==============================] - 0s 776us/step - loss: 0.2532 - accuracy: 0.8906\n",
      "Epoch 49/100\n",
      "24/24 [==============================] - 0s 835us/step - loss: 0.2402 - accuracy: 0.8935\n",
      "Epoch 50/100\n",
      "24/24 [==============================] - 0s 1ms/step - loss: 0.2548 - accuracy: 0.8893\n",
      "Epoch 51/100\n",
      "24/24 [==============================] - 0s 935us/step - loss: 0.2506 - accuracy: 0.8939\n",
      "Epoch 52/100\n",
      "24/24 [==============================] - 0s 819us/step - loss: 0.2429 - accuracy: 0.9015\n",
      "Epoch 53/100\n",
      "24/24 [==============================] - 0s 1ms/step - loss: 0.2591 - accuracy: 0.8886\n",
      "Epoch 54/100\n",
      "24/24 [==============================] - 0s 806us/step - loss: 0.2452 - accuracy: 0.8958\n",
      "Epoch 55/100\n",
      "24/24 [==============================] - 0s 917us/step - loss: 0.2272 - accuracy: 0.9128\n",
      "Epoch 56/100\n",
      "24/24 [==============================] - 0s 766us/step - loss: 0.2331 - accuracy: 0.9100\n",
      "Epoch 57/100\n",
      "24/24 [==============================] - 0s 775us/step - loss: 0.2272 - accuracy: 0.9140\n",
      "Epoch 58/100\n",
      "24/24 [==============================] - 0s 755us/step - loss: 0.2499 - accuracy: 0.8889\n",
      "Epoch 59/100\n",
      "24/24 [==============================] - 0s 711us/step - loss: 0.2481 - accuracy: 0.9010\n",
      "Epoch 60/100\n",
      "24/24 [==============================] - 0s 650us/step - loss: 0.2302 - accuracy: 0.9051\n",
      "Epoch 61/100\n",
      "24/24 [==============================] - 0s 620us/step - loss: 0.2443 - accuracy: 0.8997\n",
      "Epoch 62/100\n",
      "24/24 [==============================] - 0s 571us/step - loss: 0.2370 - accuracy: 0.9044\n",
      "Epoch 63/100\n",
      "24/24 [==============================] - 0s 548us/step - loss: 0.2279 - accuracy: 0.9061\n",
      "Epoch 64/100\n",
      "24/24 [==============================] - 0s 575us/step - loss: 0.2268 - accuracy: 0.9105\n",
      "Epoch 65/100\n",
      "24/24 [==============================] - 0s 585us/step - loss: 0.2509 - accuracy: 0.8864\n",
      "Epoch 66/100\n",
      "24/24 [==============================] - 0s 546us/step - loss: 0.2288 - accuracy: 0.9042\n",
      "Epoch 67/100\n",
      "24/24 [==============================] - 0s 548us/step - loss: 0.2211 - accuracy: 0.9068\n",
      "Epoch 68/100\n",
      "24/24 [==============================] - 0s 547us/step - loss: 0.2200 - accuracy: 0.9038\n",
      "Epoch 69/100\n",
      "24/24 [==============================] - 0s 583us/step - loss: 0.2388 - accuracy: 0.8967\n",
      "Epoch 70/100\n",
      "24/24 [==============================] - 0s 560us/step - loss: 0.2011 - accuracy: 0.9264\n",
      "Epoch 71/100\n",
      "24/24 [==============================] - 0s 550us/step - loss: 0.2225 - accuracy: 0.9099\n",
      "Epoch 72/100\n",
      "24/24 [==============================] - 0s 589us/step - loss: 0.2286 - accuracy: 0.9096\n",
      "Epoch 73/100\n",
      "24/24 [==============================] - 0s 538us/step - loss: 0.2158 - accuracy: 0.9122\n",
      "Epoch 74/100\n",
      "24/24 [==============================] - 0s 565us/step - loss: 0.2449 - accuracy: 0.8861\n",
      "Epoch 75/100\n",
      "24/24 [==============================] - 0s 514us/step - loss: 0.2062 - accuracy: 0.9123\n",
      "Epoch 76/100\n",
      "24/24 [==============================] - 0s 577us/step - loss: 0.2157 - accuracy: 0.9057\n",
      "Epoch 77/100\n",
      "24/24 [==============================] - 0s 555us/step - loss: 0.2372 - accuracy: 0.9069\n",
      "Epoch 78/100\n",
      "24/24 [==============================] - 0s 564us/step - loss: 0.2215 - accuracy: 0.9115\n",
      "Epoch 79/100\n",
      "24/24 [==============================] - 0s 557us/step - loss: 0.1986 - accuracy: 0.9210\n",
      "Epoch 80/100\n",
      "24/24 [==============================] - 0s 551us/step - loss: 0.1986 - accuracy: 0.9213\n",
      "Epoch 81/100\n"
     ]
    },
    {
     "name": "stdout",
     "output_type": "stream",
     "text": [
      "24/24 [==============================] - 0s 546us/step - loss: 0.2622 - accuracy: 0.8769\n",
      "Epoch 82/100\n",
      "24/24 [==============================] - 0s 570us/step - loss: 0.2319 - accuracy: 0.8996\n",
      "Epoch 83/100\n",
      "24/24 [==============================] - 0s 576us/step - loss: 0.2086 - accuracy: 0.9128\n",
      "Epoch 84/100\n",
      "24/24 [==============================] - 0s 564us/step - loss: 0.2210 - accuracy: 0.9038\n",
      "Epoch 85/100\n",
      "24/24 [==============================] - 0s 544us/step - loss: 0.2483 - accuracy: 0.8787\n",
      "Epoch 86/100\n",
      "24/24 [==============================] - 0s 551us/step - loss: 0.2333 - accuracy: 0.8988\n",
      "Epoch 87/100\n",
      "24/24 [==============================] - 0s 548us/step - loss: 0.2113 - accuracy: 0.9101\n",
      "Epoch 88/100\n",
      "24/24 [==============================] - 0s 559us/step - loss: 0.2339 - accuracy: 0.8979\n",
      "Epoch 89/100\n",
      "24/24 [==============================] - 0s 565us/step - loss: 0.1967 - accuracy: 0.9145\n",
      "Epoch 90/100\n",
      "24/24 [==============================] - 0s 550us/step - loss: 0.1918 - accuracy: 0.9141\n",
      "Epoch 91/100\n",
      "24/24 [==============================] - 0s 546us/step - loss: 0.2199 - accuracy: 0.9034\n",
      "Epoch 92/100\n",
      "24/24 [==============================] - 0s 540us/step - loss: 0.2009 - accuracy: 0.9241\n",
      "Epoch 93/100\n",
      "24/24 [==============================] - 0s 533us/step - loss: 0.2444 - accuracy: 0.8906\n",
      "Epoch 94/100\n",
      "24/24 [==============================] - 0s 542us/step - loss: 0.2074 - accuracy: 0.9047\n",
      "Epoch 95/100\n",
      "24/24 [==============================] - 0s 555us/step - loss: 0.2115 - accuracy: 0.9015\n",
      "Epoch 96/100\n",
      "24/24 [==============================] - 0s 541us/step - loss: 0.2131 - accuracy: 0.9092\n",
      "Epoch 97/100\n",
      "24/24 [==============================] - 0s 547us/step - loss: 0.2076 - accuracy: 0.9127\n",
      "Epoch 98/100\n",
      "24/24 [==============================] - 0s 558us/step - loss: 0.2035 - accuracy: 0.9197\n",
      "Epoch 99/100\n",
      "24/24 [==============================] - 0s 555us/step - loss: 0.2384 - accuracy: 0.8923\n",
      "Epoch 100/100\n",
      "24/24 [==============================] - 0s 539us/step - loss: 0.2281 - accuracy: 0.9016\n"
     ]
    }
   ],
   "source": [
    "# Compile the Sequential model together and customize metrics\n",
    "new_model.compile(loss=\"binary_crossentropy\", optimizer=\"adam\", metrics=[\"accuracy\"])\n",
    "\n",
    "# Fit the model to the training data\n",
    "new_fit_model = new_model.fit(X_moon_train_scaled, y_moon_train, epochs=100, shuffle=True)"
   ]
  },
  {
   "cell_type": "code",
   "execution_count": null,
   "metadata": {},
   "outputs": [],
   "source": []
  }
 ],
 "metadata": {
  "kernelspec": {
   "display_name": "PythonData",
   "language": "python",
   "name": "pythondata"
  },
  "language_info": {
   "codemirror_mode": {
    "name": "ipython",
    "version": 3
   },
   "file_extension": ".py",
   "mimetype": "text/x-python",
   "name": "python",
   "nbconvert_exporter": "python",
   "pygments_lexer": "ipython3",
   "version": "3.7.9"
  }
 },
 "nbformat": 4,
 "nbformat_minor": 4
}
